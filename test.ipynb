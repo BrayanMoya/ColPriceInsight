{
 "cells": [
  {
   "cell_type": "code",
   "execution_count": 9,
   "metadata": {},
   "outputs": [
    {
     "name": "stdout",
     "output_type": "stream",
     "text": [
      "_id                0\n",
      "name               0\n",
      "brand              0\n",
      "price              0\n",
      "categories         0\n",
      "description        1\n",
      "specifications    23\n",
      "availability       1\n",
      "sizes              1\n",
      "colors             1\n",
      "identifiers        1\n",
      "images             1\n",
      "tags               1\n",
      "reviews           23\n",
      "dtype: int64\n"
     ]
    }
   ],
   "source": [
    "import pandas as pd\n",
    "\n",
    "# Reemplaza 'ruta_al_dataset.csv' con la ruta real al archivo de datos\n",
    "df = pd.read_csv('data/finca_raiz.csv')\n",
    "\n",
    "# print(df.head())\n",
    "# print(df.info())\n",
    "# print(df.describe())\n",
    "print(df.isnull().sum())\n"
   ]
  }
 ],
 "metadata": {
  "kernelspec": {
   "display_name": "tf_keras",
   "language": "python",
   "name": "python3"
  },
  "language_info": {
   "codemirror_mode": {
    "name": "ipython",
    "version": 3
   },
   "file_extension": ".py",
   "mimetype": "text/x-python",
   "name": "python",
   "nbconvert_exporter": "python",
   "pygments_lexer": "ipython3",
   "version": "3.12.7"
  }
 },
 "nbformat": 4,
 "nbformat_minor": 2
}
